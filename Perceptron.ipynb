{
 "cells": [
  {
   "cell_type": "code",
   "execution_count": 1,
   "metadata": {},
   "outputs": [],
   "source": [
    "import numpy as np"
   ]
  },
  {
   "cell_type": "code",
   "execution_count": 2,
   "metadata": {},
   "outputs": [],
   "source": [
    "class Perceptron(object):\n",
    "    \n",
    "    #Initialize the perceptron\n",
    "    def __init__(self, input_size, lr=1, epoch=100):\n",
    "        self.w = np.random.randn(input_size+1) # intitialize weights randomly\n",
    "        self.lr = lr\n",
    "        self.epoch = epoch\n",
    "    \n",
    "    def activation_function(self, a):\n",
    "        return 1 if a >= 0 else 0 # Step activation function\n",
    "    \n",
    "    def predict(self, x):\n",
    "        f = self.w.T.dot(x) #dot product\n",
    "        a = self.activation_function(f) \n",
    "        return a\n",
    "        \n",
    "    def fit(self, X, Y):\n",
    "        for _ in range(self.epoch): # epochs\n",
    "            for i in range(Y.shape[0]): # examples\n",
    "                x = np.insert(X[i], 0, 1) #x0 bias\n",
    "                pred = self.predict(x) # predicted output\n",
    "                error = Y[i] - pred # calculate the error\n",
    "                self.w = self.w + self.lr * error * x # update the weights\n",
    "            "
   ]
  },
  {
   "cell_type": "code",
   "execution_count": 3,
   "metadata": {},
   "outputs": [
    {
     "name": "stdout",
     "output_type": "stream",
     "text": [
      "[-0.38406599  1.41625969  0.92271814]\n"
     ]
    }
   ],
   "source": [
    "# Logic OR\n",
    "x = np.array([[0,0], [0,1], [1,0], [1,1]])\n",
    "y = np.array([0, 1, 1, 1])\n",
    "\n",
    "p = Perceptron(input_size=2)\n",
    "p.fit(x, y)\n",
    "print(p.w)"
   ]
  },
  {
   "cell_type": "code",
   "execution_count": null,
   "metadata": {},
   "outputs": [],
   "source": []
  }
 ],
 "metadata": {
  "kernelspec": {
   "display_name": "Python 3",
   "language": "python",
   "name": "python3"
  },
  "language_info": {
   "codemirror_mode": {
    "name": "ipython",
    "version": 3
   },
   "file_extension": ".py",
   "mimetype": "text/x-python",
   "name": "python",
   "nbconvert_exporter": "python",
   "pygments_lexer": "ipython3",
   "version": "3.8.3"
  }
 },
 "nbformat": 4,
 "nbformat_minor": 4
}
